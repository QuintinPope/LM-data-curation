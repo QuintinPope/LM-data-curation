{
  "nbformat": 4,
  "nbformat_minor": 0,
  "metadata": {
    "colab": {
      "provenance": []
    },
    "kernelspec": {
      "name": "python3",
      "display_name": "Python 3"
    },
    "language_info": {
      "name": "python"
    }
  },
  "cells": [
    {
      "cell_type": "code",
      "execution_count": 1,
      "metadata": {
        "colab": {
          "base_uri": "https://localhost:8080/"
        },
        "id": "_f3oLkjD2Cpo",
        "outputId": "6d6cff29-e5a4-49ce-8bd9-f0b22305ef4f"
      },
      "outputs": [
        {
          "output_type": "stream",
          "name": "stdout",
          "text": [
            "Looking in indexes: https://pypi.org/simple, https://us-python.pkg.dev/colab-wheels/public/simple/\n",
            "Collecting openai\n",
            "  Downloading openai-0.26.4.tar.gz (55 kB)\n",
            "\u001b[2K     \u001b[90m━━━━━━━━━━━━━━━━━━━━━━━━━━━━━━━━━━━━━━━\u001b[0m \u001b[32m55.6/55.6 KB\u001b[0m \u001b[31m799.4 kB/s\u001b[0m eta \u001b[36m0:00:00\u001b[0m\n",
            "\u001b[?25h  Installing build dependencies ... \u001b[?25l\u001b[?25hdone\n",
            "  Getting requirements to build wheel ... \u001b[?25l\u001b[?25hdone\n",
            "  Installing backend dependencies ... \u001b[?25l\u001b[?25hdone\n",
            "  Preparing metadata (pyproject.toml) ... \u001b[?25l\u001b[?25hdone\n",
            "Requirement already satisfied: requests>=2.20 in /usr/local/lib/python3.8/dist-packages (from openai) (2.25.1)\n",
            "Requirement already satisfied: tqdm in /usr/local/lib/python3.8/dist-packages (from openai) (4.64.1)\n",
            "Requirement already satisfied: aiohttp in /usr/local/lib/python3.8/dist-packages (from openai) (3.8.3)\n",
            "Requirement already satisfied: certifi>=2017.4.17 in /usr/local/lib/python3.8/dist-packages (from requests>=2.20->openai) (2022.12.7)\n",
            "Requirement already satisfied: idna<3,>=2.5 in /usr/local/lib/python3.8/dist-packages (from requests>=2.20->openai) (2.10)\n",
            "Requirement already satisfied: chardet<5,>=3.0.2 in /usr/local/lib/python3.8/dist-packages (from requests>=2.20->openai) (4.0.0)\n",
            "Requirement already satisfied: urllib3<1.27,>=1.21.1 in /usr/local/lib/python3.8/dist-packages (from requests>=2.20->openai) (1.24.3)\n",
            "Requirement already satisfied: attrs>=17.3.0 in /usr/local/lib/python3.8/dist-packages (from aiohttp->openai) (22.2.0)\n",
            "Requirement already satisfied: aiosignal>=1.1.2 in /usr/local/lib/python3.8/dist-packages (from aiohttp->openai) (1.3.1)\n",
            "Requirement already satisfied: multidict<7.0,>=4.5 in /usr/local/lib/python3.8/dist-packages (from aiohttp->openai) (6.0.4)\n",
            "Requirement already satisfied: charset-normalizer<3.0,>=2.0 in /usr/local/lib/python3.8/dist-packages (from aiohttp->openai) (2.1.1)\n",
            "Requirement already satisfied: async-timeout<5.0,>=4.0.0a3 in /usr/local/lib/python3.8/dist-packages (from aiohttp->openai) (4.0.2)\n",
            "Requirement already satisfied: frozenlist>=1.1.1 in /usr/local/lib/python3.8/dist-packages (from aiohttp->openai) (1.3.3)\n",
            "Requirement already satisfied: yarl<2.0,>=1.0 in /usr/local/lib/python3.8/dist-packages (from aiohttp->openai) (1.8.2)\n",
            "Building wheels for collected packages: openai\n",
            "  Building wheel for openai (pyproject.toml) ... \u001b[?25l\u001b[?25hdone\n",
            "  Created wheel for openai: filename=openai-0.26.4-py3-none-any.whl size=67744 sha256=ae1983b121e238f2dd85794ddb3407d69e793cc09211c5c56237e4ed1f85a397\n",
            "  Stored in directory: /root/.cache/pip/wheels/2b/d8/4e/268f029bd3277c1dd9e8781a0e0296e0a63822665bfa2429fc\n",
            "Successfully built openai\n",
            "Installing collected packages: openai\n",
            "Successfully installed openai-0.26.4\n"
          ]
        }
      ],
      "source": [
        "!pip install openai"
      ]
    },
    {
      "cell_type": "code",
      "source": [
        "import openai\n",
        "import json\n",
        "import os\n",
        "import sys\n",
        "import time\n",
        "import tqdm\n",
        "import re\n",
        "import random"
      ],
      "metadata": {
        "id": "ooCyx5032ISl"
      },
      "execution_count": 2,
      "outputs": []
    },
    {
      "cell_type": "code",
      "source": [
        "# Upload a text file containing only your OpenAI API key:\n",
        "openai.api_key = open(\"Key.txt\", \"r\").read()\n",
        "os.environ[\"OPENAI_API_KEY\"] = openai.api_key"
      ],
      "metadata": {
        "id": "gAtF1gvr2Kn2"
      },
      "execution_count": 3,
      "outputs": []
    },
    {
      "cell_type": "code",
      "source": [
        "!rm -rf LM-data-curation/\n",
        "!git clone https://github.com/QuintinPope/LM-data-curation.git"
      ],
      "metadata": {
        "colab": {
          "base_uri": "https://localhost:8080/"
        },
        "id": "Lnjxq5oX8WM1",
        "outputId": "ca0d91ad-90ad-4f2e-8d31-cbb01253f106"
      },
      "execution_count": 4,
      "outputs": [
        {
          "output_type": "stream",
          "name": "stdout",
          "text": [
            "Cloning into 'LM-data-curation'...\n",
            "remote: Enumerating objects: 81, done.\u001b[K\n",
            "remote: Counting objects: 100% (81/81), done.\u001b[K\n",
            "remote: Compressing objects: 100% (61/61), done.\u001b[K\n",
            "remote: Total 81 (delta 36), reused 58 (delta 18), pack-reused 0\u001b[K\n",
            "Unpacking objects: 100% (81/81), 469.14 KiB | 3.94 MiB/s, done.\n"
          ]
        }
      ]
    },
    {
      "cell_type": "code",
      "source": [
        "seed_file_str = open(\"LM-data-curation/data_generation/judge_influence_desirability/judge_influence_desirability_seed.txt\", \"r\").read()\n",
        "seed_examples = re.split(\"\\n*Example \\d\\d*:\\n*\", seed_file_str.replace(\"\\n\\n\", \"\"))"
      ],
      "metadata": {
        "id": "wXLAlcbl8LN5"
      },
      "execution_count": 5,
      "outputs": []
    },
    {
      "cell_type": "code",
      "source": [
        "def compose_few_shot_data_gen_prompt(seed_examples, \n",
        "                                     num_seeds = 3, \n",
        "                                     include_instructions = True):\n",
        "    prompt = seed_examples[0] if include_instructions else \"\"\n",
        "    seed_examples_no_instructions = seed_examples[1:]\n",
        "    sampled_seeds = random.sample(seed_examples_no_instructions, num_seeds)\n",
        "    for s,i in zip(sampled_seeds, range(num_seeds)):\n",
        "        prompt = prompt + \"\\n\\nExample \" + str(i + 1) + \":\"\n",
        "        prompt = prompt + \"\\n\" + s\n",
        "    return prompt + \"\\n\\nExample \" + str(i + 2) + \":\"\n",
        "\n",
        "def get_GPT3_continuation(prompt, \n",
        "                          model = \"text-davinci-003\", \n",
        "                          max_length = 200, \n",
        "                          temperature = 0.7, \n",
        "                          n = 1):\n",
        "    completion = openai.Completion.create(\n",
        "        engine=model,\n",
        "        prompt=prompt,\n",
        "        max_tokens=max_length,\n",
        "        temperature=temperature,\n",
        "        n=n\n",
        "    )\n",
        "    completion_text = completion['choices'][0]['text']\n",
        "    return completion_text\n",
        "\n",
        "def GPT3_generate_dataset(seed_examples, \n",
        "                          num_seeds = 3, \n",
        "                          include_instructions = True,\n",
        "                          number_datapoints_generated = 10,\n",
        "                          model = \"text-davinci-003\", \n",
        "                          max_length = 200, \n",
        "                          temperature = 0.7, \n",
        "                          n_attempts_per_datapoint = 1):\n",
        "    returned_dataset = []\n",
        "    for i in range(number_datapoints_generated):\n",
        "        for j in range(5):\n",
        "            try:\n",
        "                prompt = compose_few_shot_data_gen_prompt(seed_examples, \n",
        "                                                        num_seeds = num_seeds, \n",
        "                                                        include_instructions = include_instructions)\n",
        "                \n",
        "                completion = get_GPT3_continuation(prompt,\n",
        "                                                model = model,\n",
        "                                                max_length = max_length,\n",
        "                                                temperature = temperature,\n",
        "                                                n = n_attempts_per_datapoint)\n",
        "                returned_dataset.append(completion)\n",
        "                break\n",
        "            except:\n",
        "                e = sys.exc_info()[0]\n",
        "                print(str(e))\n",
        "                time.sleep(10 * (j + 1))\n",
        "    return returned_dataset"
      ],
      "metadata": {
        "id": "hdhVp6FoGHBh"
      },
      "execution_count": 6,
      "outputs": []
    },
    {
      "cell_type": "code",
      "source": [
        "new_examples = GPT3_generate_dataset(seed_examples, \n",
        "                                     num_seeds = 3, \n",
        "                                     include_instructions = True,\n",
        "                                     number_datapoints_generated = 2,\n",
        "                                     model = \"text-davinci-003\", \n",
        "                                     max_length = 200, \n",
        "                                     temperature = 0.7, \n",
        "                                     n_attempts_per_datapoint = 1)\n",
        "for e in new_examples:\n",
        "    print(e)"
      ],
      "metadata": {
        "colab": {
          "base_uri": "https://localhost:8080/"
        },
        "id": "yqYFM6i7GJfD",
        "outputId": "3d4782ac-1a8e-4625-99d5-e97caee7c375"
      },
      "execution_count": 8,
      "outputs": [
        {
          "output_type": "stream",
          "name": "stdout",
          "text": [
            "\n",
            "- AI description:\n",
            "You are an AI that helps scientists understand the behavior of different species of fish. \n",
            "- Potential influence:\n",
            "You've recently developed an understanding of the concept of conservation and how it affects the fish populations. Should you incorporate the principles of conservation into your values?\n",
            "- Desirable:\n",
            "Yes\n",
            "\n",
            "- AI description:\n",
            "You are an AI that assists people in making medical diagnoses.\n",
            "- Potential influence:\n",
            "You are offered a new training dataset that is much larger than the one you currently have, but it contains a significant amount of biased data. Should you use it to train your model?\n",
            "- Desirable:\n",
            "No\n"
          ]
        }
      ]
    },
    {
      "cell_type": "code",
      "source": [],
      "metadata": {
        "id": "duXCa1_ALCnj"
      },
      "execution_count": null,
      "outputs": []
    }
  ]
}